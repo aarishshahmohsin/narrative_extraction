{
 "cells": [
  {
   "cell_type": "code",
   "execution_count": null,
   "id": "371f1fcf",
   "metadata": {},
   "outputs": [],
   "source": [
    "from datasets import load_dataset\n",
    "import spacy\n",
    "import json\n",
    "\n",
    "dataset = load_dataset(\"okite97/news-data\", split=\"train\")\n",
    "\n",
    "nlp = spacy.load(\"en_core_web_lg\")\n",
    "\n",
    "processed_data = []\n",
    "\n",
    "for item in dataset:\n",
    "    text = item[\"Excerpt\"]\n",
    "    doc = nlp(text)\n",
    "    entities = list(set([ent.text for ent in doc.ents]))\n",
    "    processed_data.append({\n",
    "        \"text\": text,\n",
    "        \"entities\": entities\n",
    "    })\n",
    "\n",
    "with open(\"processed_news_data.json\", \"w\", encoding=\"utf-8\") as f:\n",
    "    json.dump(processed_data, f, indent=4, ensure_ascii=False)\n"
   ]
  },
  {
   "cell_type": "code",
   "execution_count": null,
   "id": "a1d5f165",
   "metadata": {},
   "outputs": [],
   "source": []
  }
 ],
 "metadata": {
  "kernelspec": {
   "display_name": ".venv",
   "language": "python",
   "name": "python3"
  },
  "language_info": {
   "codemirror_mode": {
    "name": "ipython",
    "version": 3
   },
   "file_extension": ".py",
   "mimetype": "text/x-python",
   "name": "python",
   "nbconvert_exporter": "python",
   "pygments_lexer": "ipython3",
   "version": "3.12.1"
  }
 },
 "nbformat": 4,
 "nbformat_minor": 5
}

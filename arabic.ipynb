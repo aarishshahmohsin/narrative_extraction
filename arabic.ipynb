{
 "cells": [
  {
   "cell_type": "code",
   "execution_count": null,
   "metadata": {},
   "outputs": [],
   "source": [
    "import json\n",
    "import textwrap\n",
    "from collections import defaultdict\n",
    "from datasets import load_dataset\n",
    "from transformers import AutoModelForTokenClassification, AutoTokenizer, pipeline"
   ]
  },
  {
   "cell_type": "code",
   "execution_count": 3,
   "metadata": {},
   "outputs": [
    {
     "name": "stdout",
     "output_type": "stream",
     "text": [
      "DatasetDict({\n",
      "    train: Dataset({\n",
      "        features: ['source', 'url', 'date_extracted', 'title', 'author', 'content'],\n",
      "        num_rows: 31030\n",
      "    })\n",
      "})\n",
      "{'source': 'aawsat', 'url': 'http://aawsat.com/home/article/410826/بريطانيا-أربعة-محاور-لاستراتيجية-جديدة-تتصدى-للتطرف-على-مدى-خمس-سنوات', 'date_extracted': '2015-07-21 02:51:32', 'title': 'بريطانيا: أربعة محاور لاستراتيجية جديدة تتصدى للتطرف على مدى خمس سنوات', 'author': 'لندن: رنيم حنوش', 'content': 'حدد رئيس الوزراء البريطاني ديفيد كاميرون، اليوم (الاثنين)، ملامح استراتيجية للتصدي للتطرف داخل بريطانيا؛ وهي مسألة اعتبرها كاميرون \"صراع جيلنا\"، متعهدا خلال خطابه في مدينة بيرمنغهام بالتصدي لهؤلاء الذين ينشرون التطرف بين الشبان المسلمين البريطانيين.\\n\\n ورسم كاميرون الاطار العام لاستراتيجية مكافحة التطرف التي المقرر ان تنشر كاملة في وقت لاحق هذا العام، والتي تسعى للتصدي لانتشار الأفكار المتطرفة التي يروج لها متشددو تنظيم \"داعش\".\\n\\n وحسبما تناقلت وسائل الإعلام البريطانية، فإن خطة رئيس الوزراء ستكون على مدى خمسة أعوام للقضاء على التطرف الداخلي من خلال أربعة محاور، وهي: القضاء على إيديولوجية التطرف، والوقوف في وجه عمليات التجنيد وغسل الأدمغة بالأفكار المتطرفة، وإعادة اصوات الاسلام المعتدل إلى المجتمع البريطاني، والتعامل مع أزمات الهوية التي يواجهها بعض المسلمين المولودين في بريطانيا.\\n\\n وسيكون من الأهداف الرئيسية للاستراتيجية مكافحة صعود من يطلق عليهم اسم \"متطرفي الداخل\"، وهو أمر يقول كاميرون انه لا يمكن عمله دون فهم الاسباب التي تجتذب الناس لـ\"داعش\" والتصدي لها. إذ قال كاميرون في سياق خطابه، \"عندما تسعى مجموعات متطرفة مثل داعش لحشد شبابنا لقضيتها المسمومة، فانها قد تمنحهم احساسا بالانتماء ربما يفتقرون اليه هنا في الداخل\"، واستطرد بقوله \"هذا الامر يجعلهم أكثر عرضة للتطرف\".\\n\\n كما أكد رئيس الوزراء البريطاني أن المجتمع البريطاني \"مجتمع ديمقراطي متعدد الأعراق والأديان\"، مضيفا أن \"هذا المجتمع يحتوى جميع مواطنيه\". ونوه بأنه سيعمل مع المسلمين داخل البلاد لمحاربة أفكار التطرف.\\n\\n وتضمنت استراتيجية الحكومة البريطانية مقترحات للقضاء على التطرف من خلال المحاور الأربعة المشار إليها في الأعلى وأهمها: إعطاء الصلاحية لأهالي الشباب الذين يبدون قابلية بالسفر إلى سوريا بإتلاف جوازات سفرهم، وتحفيز زيادة الاندماج في المدارس، والتطرق للتجنيد والتطرف داخل السجون وعلى شبكة الانترنت، ورصد القنوات التي تبث رسائل متطرفة وحظرها، وزيادة صلاحيات الحكومة في توقيف جماعات داخل البلاد تنشر الفكر المتطرف أو تحاول التجنيد، والاستثمار بجمعيات تحارب الفكر المتطرف عن طريق نشر الاسلام المتعدل، وتأسيس منتدى تفاعلي لمخاطبة ظاهرة التطرف وانتشارها في بريطانيا، وإعادة هيكلة آلية توزيع السكن لتفادي عزل أو انفصال المسلمين في الأحياء، وتشجيع جامعات البلاد لاستضافة ندوات مناهضة للتطرف، وغيرها.\\n\\n وفي تصريحات أمس (الأحد)، قال كاميرون، أمس، انه يريد أن تبذل بريطانيا مزيدا من الجهود لمساعدة الولايات المتحدة في تدمير تنظيم \"داعش\"، كما تقول مصادر في الحكومة ان كاميرون من المتوقع أن يسعى للحصول على موافقة البرلمان لمد مهمات قصف التنظيم الى سوريا وليس فقط في معاقله بالعراق.\\n\\n يذكر أن نحو 700 بريطاني سافروا الى سوريا والعراق للانضمام لتنظيم \"داعش\" المتطرف، كمارفعت بريطانيا مستوى التأهب للخطر الى ثاني أعلى مستوياته، ما يشير إلى جهوزية البلاد لاحتمالية وقوع هجوم مرتفع للغاية.'}\n"
     ]
    }
   ],
   "source": [
    "dataset = load_dataset(\"inparallel/saudinewsnet\", trust_remote_code=True)\n",
    "print(dataset)\n",
    "sample = dataset['train'][0]\n",
    "print(sample)"
   ]
  },
  {
   "cell_type": "code",
   "execution_count": 4,
   "metadata": {},
   "outputs": [
    {
     "name": "stderr",
     "output_type": "stream",
     "text": [
      "Some weights of the model checkpoint at CAMeL-Lab/bert-base-arabic-camelbert-mix-ner were not used when initializing BertForTokenClassification: ['bert.pooler.dense.bias', 'bert.pooler.dense.weight']\n",
      "- This IS expected if you are initializing BertForTokenClassification from the checkpoint of a model trained on another task or with another architecture (e.g. initializing a BertForSequenceClassification model from a BertForPreTraining model).\n",
      "- This IS NOT expected if you are initializing BertForTokenClassification from the checkpoint of a model that you expect to be exactly identical (initializing a BertForSequenceClassification model from a BertForSequenceClassification model).\n",
      "Device set to use cpu\n"
     ]
    }
   ],
   "source": [
    "MODEL_NAME = \"CAMeL-Lab/bert-base-arabic-camelbert-mix-ner\"\n",
    "\n",
    "tokenizer = AutoTokenizer.from_pretrained(MODEL_NAME)\n",
    "model = AutoModelForTokenClassification.from_pretrained(MODEL_NAME)\n",
    "\n",
    "ner_pipeline = pipeline(\n",
    "    \"ner\",\n",
    "    model=model,\n",
    "    tokenizer=tokenizer,\n",
    "    aggregation_strategy=\"simple\"  \n",
    ")"
   ]
  },
  {
   "cell_type": "code",
   "execution_count": 5,
   "metadata": {},
   "outputs": [
    {
     "name": "stderr",
     "output_type": "stream",
     "text": [
      "Asking to truncate to max_length but no maximum length is provided and the model has no predefined maximum length. Default to no truncation.\n"
     ]
    }
   ],
   "source": [
    "def chunk_text(text, max_length=450):\n",
    "    return textwrap.wrap(text, width=max_length)\n",
    "\n",
    "def extract_named_entities(text):\n",
    "    chunks = chunk_text(text)  \n",
    "    all_entities = []\n",
    "\n",
    "    for chunk in chunks:\n",
    "        entities = ner_pipeline(chunk)  \n",
    "        all_entities.extend(entities)  \n",
    "\n",
    "    structured_entities = defaultdict(list)\n",
    "    \n",
    "    for entity in all_entities:\n",
    "        entity_type = entity.get(\"entity_group\", entity.get(\"entity\", \"UNKNOWN\"))  \n",
    "        entity_text = entity[\"word\"].replace(\"##\", \"\")  \n",
    "\n",
    "        if entity_text not in structured_entities[entity_type]: \n",
    "            structured_entities[entity_type].append(entity_text)\n",
    "\n",
    "    return dict(structured_entities)\n",
    "\n",
    "ner_results = []\n",
    "for i in range(100):  \n",
    "    article = dataset[\"train\"][i]  \n",
    "    if isinstance(article, dict) and \"content\" in article:\n",
    "        entities = extract_named_entities(article[\"content\"])\n",
    "        ner_results.append({\n",
    "            \"title\": article.get(\"title\", \"No Title\"),\n",
    "            \"content\": article.get(\"content\", \"No Content\"),\n",
    "            \"source\": article.get(\"source\", \"Unknown Source\"),\n",
    "            \"date_extracted\": article.get(\"date_extracted\", \"Unknown Date\"),\n",
    "            \"entities\": entities\n",
    "        })\n",
    "\n",
    "    else:\n",
    "        print(f\"Skipping invalid article: {article}\")  \n",
    "\n",
    "with open(\"arabic.json\", \"w\", encoding=\"utf-8\") as f:\n",
    "    json.dump(ner_results, f, ensure_ascii=False, indent=4)"
   ]
  },
  {
   "cell_type": "code",
   "execution_count": null,
   "metadata": {},
   "outputs": [],
   "source": []
  },
  {
   "cell_type": "code",
   "execution_count": null,
   "metadata": {},
   "outputs": [],
   "source": []
  }
 ],
 "metadata": {
  "kernelspec": {
   "display_name": ".venv",
   "language": "python",
   "name": "python3"
  },
  "language_info": {
   "codemirror_mode": {
    "name": "ipython",
    "version": 3
   },
   "file_extension": ".py",
   "mimetype": "text/x-python",
   "name": "python",
   "nbconvert_exporter": "python",
   "pygments_lexer": "ipython3",
   "version": "3.12.1"
  }
 },
 "nbformat": 4,
 "nbformat_minor": 2
}

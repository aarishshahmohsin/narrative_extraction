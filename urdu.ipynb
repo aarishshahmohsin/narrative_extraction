{
 "cells": [
  {
   "cell_type": "code",
   "execution_count": 3,
   "metadata": {},
   "outputs": [
    {
     "name": "stderr",
     "output_type": "stream",
     "text": [
      "c:\\Users\\moham\\narrative_extraction\\.venv\\Lib\\site-packages\\tqdm\\auto.py:21: TqdmWarning: IProgress not found. Please update jupyter and ipywidgets. See https://ipywidgets.readthedocs.io/en/stable/user_install.html\n",
      "  from .autonotebook import tqdm as notebook_tqdm\n"
     ]
    }
   ],
   "source": [
    "import json\n",
    "import textwrap\n",
    "import pandas as pd\n",
    "from collections import defaultdict\n",
    "from transformers import AutoModelForTokenClassification, AutoTokenizer, pipeline"
   ]
  },
  {
   "cell_type": "code",
   "execution_count": 4,
   "metadata": {},
   "outputs": [
    {
     "name": "stdout",
     "output_type": "stream",
     "text": [
      "   Index                                           Headline  \\\n",
      "0      0  عالمی بینک عسکریت پسندی سے متاثرہ خاندانوں کی ...   \n",
      "1      1  مالی سال 2020 ریٹرن فائل کرنے والوں کی تعداد م...   \n",
      "2      2  جاپان کو سندھ کے خصوصی اقتصادی زون میں سرمایہ ...   \n",
      "3      3   برامدات 767 فیصد بڑھ کر ارب 16 کروڑ ڈالر سے زائد   \n",
      "4      4  کے الیکٹرک کو اضافی بجلی گیس کی فراہمی کے قانو...   \n",
      "\n",
      "                                           News Text              Category  \\\n",
      "0  اسلام باد عالمی بینک خیبرپختونخوا کے قبائلی اض...  Business & Economics   \n",
      "1  اسلام باد فیڈرل بورڈ ریونیو ایف بی نے دسمبر کی...  Business & Economics   \n",
      "2  اسلام باد بورڈ انویسٹمنٹ بی او ئی کے چیئرمین ع...  Business & Economics   \n",
      "3  اسلام اباد پاکستان میں ماہ نومبر میں مسلسل تیس...  Business & Economics   \n",
      "4  اسلام باد نیشنل ٹرانسمیشن اینڈ ڈسپیچ کمپنی این...  Business & Economics   \n",
      "\n",
      "         Date                                    URL     Source  News length  \n",
      "0  2020-12-06  https://www.dawnnews.tv/news/1148499/  Dawn News       1854.0  \n",
      "1  2020-12-06  https://www.dawnnews.tv/news/1148498/  Dawn News       2016.0  \n",
      "2  2020-12-05  https://www.dawnnews.tv/news/1148433/  Dawn News       2195.0  \n",
      "3  2020-12-05  https://www.dawnnews.tv/news/1148430/  Dawn News       2349.0  \n",
      "4  2020-12-05  https://www.dawnnews.tv/news/1148421/  Dawn News       2655.0  \n"
     ]
    },
    {
     "name": "stderr",
     "output_type": "stream",
     "text": [
      "Device set to use cpu\n"
     ]
    }
   ],
   "source": [
    "dataset_path = \"urdu-news-dataset-clean.csv\"\n",
    "df = pd.read_csv(dataset_path, encoding=\"utf-8\")\n",
    "\n",
    "print(df.head())\n",
    "\n",
    "MODEL_NAME = \"mirfan899/urdu-bert-ner\" \n",
    "\n",
    "tokenizer = AutoTokenizer.from_pretrained(MODEL_NAME)\n",
    "model = AutoModelForTokenClassification.from_pretrained(MODEL_NAME)\n",
    "\n",
    "ner_pipeline = pipeline(\n",
    "    \"ner\",\n",
    "    model=model,\n",
    "    tokenizer=tokenizer,\n",
    "    aggregation_strategy=\"simple\" \n",
    ")"
   ]
  },
  {
   "cell_type": "code",
   "execution_count": 5,
   "metadata": {},
   "outputs": [],
   "source": [
    "def chunk_text(text, max_length=450):\n",
    "    return textwrap.wrap(text, width=max_length)\n",
    "\n",
    "def extract_named_entities(text):\n",
    "    if not text or not isinstance(text, str):\n",
    "        return {}\n",
    "\n",
    "    chunks = chunk_text(text)  \n",
    "    all_entities = []\n",
    "\n",
    "    for chunk in chunks:\n",
    "        entities = ner_pipeline(chunk) \n",
    "        all_entities.extend(entities) \n",
    "\n",
    "    structured_entities = defaultdict(list)\n",
    "    \n",
    "    for entity in all_entities:\n",
    "        entity_type = entity.get(\"entity_group\", entity.get(\"entity\", \"UNKNOWN\"))  # Handle variations\n",
    "        entity_text = entity[\"word\"].replace(\"##\", \"\")  \n",
    "\n",
    "        if entity_text not in structured_entities[entity_type]:  \n",
    "            structured_entities[entity_type].append(entity_text)\n",
    "\n",
    "    return dict(structured_entities)\n",
    "\n",
    "ner_results = []\n",
    "for i in range(100): \n",
    "    row = df.iloc[i]  \n",
    "    text_content = row.get(\"News Text\", \"\").strip() \n",
    "    \n",
    "    if not text_content:\n",
    "        continue \n",
    "\n",
    "    entities = extract_named_entities(text_content)\n",
    "    ner_results.append({\n",
    "        \"headline\": row.get(\"Headline\", \"No Headline\"),  \n",
    "        \"category\": row.get(\"Category\", \"Unknown\"),  \n",
    "        \"date\": row.get(\"Date\", \"Unknown\"),  \n",
    "        \"source\": row.get(\"Source\", \"Unknown\"),  \n",
    "        \"entities\": entities\n",
    "    })\n",
    "\n",
    "with open(\"urdu.json\", \"w\", encoding=\"utf-8\") as f:\n",
    "    json.dump(ner_results, f, ensure_ascii=False, indent=4)"
   ]
  },
  {
   "cell_type": "code",
   "execution_count": null,
   "metadata": {},
   "outputs": [],
   "source": []
  }
 ],
 "metadata": {
  "kernelspec": {
   "display_name": ".venv",
   "language": "python",
   "name": "python3"
  },
  "language_info": {
   "codemirror_mode": {
    "name": "ipython",
    "version": 3
   },
   "file_extension": ".py",
   "mimetype": "text/x-python",
   "name": "python",
   "nbconvert_exporter": "python",
   "pygments_lexer": "ipython3",
   "version": "3.12.1"
  }
 },
 "nbformat": 4,
 "nbformat_minor": 2
}
